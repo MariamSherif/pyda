{
 "cells": [
  {
   "cell_type": "code",
   "execution_count": 1,
   "metadata": {},
   "outputs": [],
   "source": [
    "import operator\n",
    "import re\n",
    "\n",
    "from pyspark import SparkConf, SparkContext"
   ]
  },
  {
   "cell_type": "code",
   "execution_count": 2,
   "metadata": {},
   "outputs": [],
   "source": [
    "sc = SparkContext(conf=SparkConf().setAppName(\"FindPath\").setMaster(\"local\"))"
   ]
  },
  {
   "cell_type": "code",
   "execution_count": 3,
   "metadata": {},
   "outputs": [],
   "source": [
    "def parse_edge(s):\n",
    "    user, follower = s.split(\"\\t\")\n",
    "    return (int(user), int(follower))\n",
    "\n",
    "def f_step(item):\n",
    "    prev_v, prev_d, next_v = item[0], item[1][0], item[1][1]\n",
    "    return (next_v, prev_d + 1)\n",
    "\n",
    "def complete(item):\n",
    "    v, old_d, new_d = item[0], item[1][0], item[1][1]\n",
    "    return (v, old_d if old_d is not None else new_d)\n",
    "\n",
    "n = 400  # number of partitions\n",
    "edges = sc.textFile(\"/data/twitter/twitter_sample.txt\").map(parse_edge).cache()\n",
    "forward_edges = edges.map(lambda e: (e[1], e[0])).partitionBy(n).persist()"
   ]
  },
  {
   "cell_type": "code",
   "execution_count": 4,
   "metadata": {},
   "outputs": [],
   "source": [
    "x = 12\n",
    "y = 34\n",
    "d = 0\n",
    "\n",
    "distances = sc.parallelize([(x, d)]).partitionBy(n)\n",
    "\n",
    "while True:\n",
    "\n",
    "    candidates = distances.filter(lambda item: item[1] == d).join(forward_edges, n).map(f_step)\n",
    "    new_distances = distances.fullOuterJoin(candidates, n).map(complete, True).persist()\n",
    "    \n",
    "    if candidates.isEmpty():\n",
    "        break\n",
    "\n",
    "    d += 1\n",
    "    distances = new_distances\n",
    "\n",
    "    if not candidates.filter(lambda pair: pair[0] == y).isEmpty():\n",
    "        break\n"
   ]
  },
  {
   "cell_type": "code",
   "execution_count": 5,
   "metadata": {},
   "outputs": [
    {
     "name": "stdout",
     "output_type": "stream",
     "text": [
      "12,422,53,52,107,20,23,274,34\n"
     ]
    }
   ],
   "source": [
    "path = [y]\n",
    "\n",
    "step = d - 1\n",
    "next_ = y\n",
    "\n",
    "dist_cache = distances.cache()\n",
    "\n",
    "while step:\n",
    "    step_candidats = dist_cache.filter(lambda pair: pair[1] == step).map(lambda item: (item[0], next_))\n",
    "    next_ = forward_edges.filter(lambda pair: pair[1] == next_).intersection(step_candidats).first()[0]\n",
    "    # decrease step and found next\n",
    "    step -= 1\n",
    "    path.append(next_)\n",
    "        \n",
    "path.append(x)\n",
    "\n",
    "path.reverse()\n",
    "print ','.join(map(str, path))"
   ]
  }
 ],
 "metadata": {
  "kernelspec": {
   "display_name": "Python 2",
   "language": "python",
   "name": "python2"
  },
  "language_info": {
   "codemirror_mode": {
    "name": "ipython",
    "version": 2
   },
   "file_extension": ".py",
   "mimetype": "text/x-python",
   "name": "python",
   "nbconvert_exporter": "python",
   "pygments_lexer": "ipython2",
   "version": "2.7.12"
  }
 },
 "nbformat": 4,
 "nbformat_minor": 2
}
