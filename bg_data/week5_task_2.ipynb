{
 "cells": [
  {
   "cell_type": "code",
   "execution_count": 1,
   "metadata": {},
   "outputs": [],
   "source": [
    "import operator\n",
    "import math\n",
    "import re\n",
    "\n",
    "from pyspark import SparkConf, SparkContext"
   ]
  },
  {
   "cell_type": "code",
   "execution_count": 2,
   "metadata": {
    "scrolled": true
   },
   "outputs": [],
   "source": [
    "sc = SparkContext(conf=SparkConf().setAppName(\"Spark assignment 2: Collocations\").setMaster(\"local\"))"
   ]
  },
  {
   "cell_type": "code",
   "execution_count": 3,
   "metadata": {},
   "outputs": [],
   "source": [
    "def parse_article(line):\n",
    "    try:\n",
    "        article_id, text = unicode(line.rstrip()).split('\\t', 1)\n",
    "        text = re.sub(\"^\\W+|\\W+$\", \"\", text, flags=re.UNICODE)\n",
    "        words = re.split(\"\\W*\\s+\\W*\", text, flags=re.UNICODE)\n",
    "        return [word.lower() for word in words]\n",
    "    except ValueError as e:\n",
    "        return []\n",
    "\n",
    "def process_article(words):\n",
    "    prew = words[0]\n",
    "    for word in words[1:]:\n",
    "        yield (prew, word), 1\n",
    "        prew = word"
   ]
  },
  {
   "cell_type": "code",
   "execution_count": 4,
   "metadata": {},
   "outputs": [],
   "source": [
    "articles = sc.textFile(\"/data/wiki/en_articles_part/articles-part\", 16)"
   ]
  },
  {
   "cell_type": "code",
   "execution_count": 5,
   "metadata": {},
   "outputs": [],
   "source": [
    "words_count = (\n",
    "    articles\n",
    "    .flatMap(parse_article)\n",
    "    .map(lambda item: (item, 1))\n",
    "    .reduceByKey(operator.add)\n",
    ")\n",
    "total_words = float(words_count.values().sum())"
   ]
  },
  {
   "cell_type": "code",
   "execution_count": 6,
   "metadata": {},
   "outputs": [],
   "source": [
    "with open('/datasets/stop_words_en.txt', 'r') as infile:\n",
    "    stop_words = set(word.strip().lower() for word in infile)"
   ]
  },
  {
   "cell_type": "code",
   "execution_count": 7,
   "metadata": {},
   "outputs": [],
   "source": [
    "words_map = words_count.filter(lambda row: row[0] not in stop_words).collectAsMap()"
   ]
  },
  {
   "cell_type": "code",
   "execution_count": 8,
   "metadata": {},
   "outputs": [],
   "source": [
    "word_pairs = (\n",
    "    articles\n",
    "    .map(parse_article)\n",
    "    .flatMap(process_article)\n",
    "    .filter(\n",
    "        # not in stop words\n",
    "        lambda item: item[0][0] not in stop_words and item[0][1] not in stop_words)\n",
    "    .reduceByKey(operator.add)\n",
    "    .filter(\n",
    "        # more then 500 occurencies\n",
    "        lambda item: item[1] > 500\n",
    "    )\n",
    ")"
   ]
  },
  {
   "cell_type": "code",
   "execution_count": 9,
   "metadata": {},
   "outputs": [],
   "source": [
    "def calc_PMI(row):\n",
    "    \"\"\"\n",
    "    PMI(a, b) = ln (P(ab) / (P(a) * P(b))\n",
    "    NPMI(a, b) = PMI(a, b) / -ln P(ab)\n",
    "    \"\"\"\n",
    "    (word_a, word_b), count = row\n",
    "    p_ab = count / total_words\n",
    "    p_a = words_map[word_a] / total_words\n",
    "    p_b = words_map[word_b] / total_words\n",
    "    pmi = math.log(p_ab / (p_a * p_b))\n",
    "    npmi = pmi / - math.log(p_ab)\n",
    "    return (word_a, word_b), npmi\n",
    "    "
   ]
  },
  {
   "cell_type": "code",
   "execution_count": 10,
   "metadata": {},
   "outputs": [],
   "source": [
    "pmis_word_pairs = word_pairs.map(calc_PMI).sortBy(lambda row: row[1], False)"
   ]
  },
  {
   "cell_type": "code",
   "execution_count": 11,
   "metadata": {},
   "outputs": [
    {
     "name": "stdout",
     "output_type": "stream",
     "text": [
      "los_angeles\n",
      "external_links\n",
      "united_states\n",
      "prime_minister\n",
      "san_francisco\n",
      "et_al\n",
      "new_york\n",
      "supreme_court\n",
      "19th_century\n",
      "20th_century\n",
      "references_external\n",
      "soviet_union\n",
      "air_force\n",
      "baseball_player\n",
      "university_press\n",
      "united_kingdom\n",
      "roman_catholic\n",
      "north_america\n",
      "new_zealand\n",
      "notes_references\n",
      "civil_war\n",
      "world_war\n",
      "catholic_church\n",
      "war_ii\n",
      "south_africa\n",
      "roman_empire\n",
      "united_nations\n",
      "took_place\n",
      "american_singer-songwriter\n",
      "high_school\n",
      "american_actor\n",
      "american_actress\n",
      "american_baseball\n",
      "york_city\n",
      "american_football\n",
      "years_later\n",
      "north_american\n"
     ]
    }
   ],
   "source": [
    "for row in pmis_word_pairs.take(39):\n",
    "    print '{key[0]}_{key[1]}'.format(key=row[0])    "
   ]
  }
 ],
 "metadata": {
  "kernelspec": {
   "display_name": "Python 2",
   "language": "python",
   "name": "python2"
  },
  "language_info": {
   "codemirror_mode": {
    "name": "ipython",
    "version": 2
   },
   "file_extension": ".py",
   "mimetype": "text/x-python",
   "name": "python",
   "nbconvert_exporter": "python",
   "pygments_lexer": "ipython2",
   "version": "2.7.12"
  }
 },
 "nbformat": 4,
 "nbformat_minor": 2
}
