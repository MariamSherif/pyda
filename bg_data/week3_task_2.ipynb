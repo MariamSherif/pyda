{
 "cells": [
  {
   "cell_type": "code",
   "execution_count": 1,
   "metadata": {},
   "outputs": [
    {
     "name": "stdout",
     "output_type": "stream",
     "text": [
      "Overwriting mapper.py\n"
     ]
    }
   ],
   "source": [
    "%%writefile mapper.py\n",
    "\n",
    "import sys\n",
    "import re\n",
    "\n",
    "reload(sys)\n",
    "sys.setdefaultencoding('utf-8') # required to convert to unicode\n",
    "\n",
    "\n",
    "for line in sys.stdin:\n",
    "    try:\n",
    "        article_id, text = unicode(line.strip()).split('\\t', 1)\n",
    "    except ValueError as e:\n",
    "        continue\n",
    "    text = re.sub(\"^\\W+|\\W+$\", \"\", text, flags=re.UNICODE)\n",
    "    words = re.split(\"\\W*\\s+\\W*\", text, flags=re.UNICODE)\n",
    "    for word in words:\n",
    "        print \"%s\\t%d\" % (word.lower(), 1)\n"
   ]
  },
  {
   "cell_type": "code",
   "execution_count": 5,
   "metadata": {},
   "outputs": [
    {
     "name": "stdout",
     "output_type": "stream",
     "text": [
      "Overwriting reducer.py\n"
     ]
    }
   ],
   "source": [
    "%%writefile reducer.py\n",
    "\n",
    "import sys\n",
    "\n",
    "current_key = None\n",
    "word_sum = 0\n",
    "\n",
    "\n",
    "def read_vocabulary(file_path):\n",
    "    with open(file_path, 'r') as infile:\n",
    "        return set(word.strip().lower() for word in infile.read())\n",
    "stop_words = read_vocabulary(\"stop_words.txt\")\n",
    "\n",
    "\n",
    "for line in sys.stdin:\n",
    "    try:\n",
    "        key, count = line.strip().split('\\t', 1)\n",
    "        count = int(count)\n",
    "    except ValueError as e:\n",
    "        continue\n",
    "    if current_key != key:\n",
    "        if current_key:\n",
    "            print \"%s\\t%d\" % (current_key, word_sum)\n",
    "            if current_key in stop_words:\n",
    "                print >> sys.stderr, \"reporter:counter:Wiki stats,stop words,%d\" % word_sum\n",
    "            print >> sys.stderr, \"reporter:counter:Wiki stats,total words,%d\" % word_sum\n",
    "        word_sum = 0\n",
    "        current_key = key\n",
    "    word_sum += count\n",
    "\n",
    "if current_key:\n",
    "    print \"%s\\t%d\" % (current_key, word_sum)\n",
    "    if current_key in stop_words:\n",
    "        print >> sys.stderr, \"reporter:counter:Wiki stats,stop words,%d\" % word_sum\n",
    "    print >> sys.stderr, \"reporter:counter:Wiki stats,total words,%d\" % word_sum"
   ]
  },
  {
   "cell_type": "code",
   "execution_count": 7,
   "metadata": {},
   "outputs": [
    {
     "name": "stdout",
     "output_type": "stream",
     "text": [
      "2.62"
     ]
    },
    {
     "name": "stderr",
     "output_type": "stream",
     "text": [
      "17/10/15 17:27:06 INFO client.RMProxy: Connecting to ResourceManager at /0.0.0.0:8032\n",
      "17/10/15 17:27:06 INFO client.RMProxy: Connecting to ResourceManager at /0.0.0.0:8032\n",
      "17/10/15 17:27:08 INFO mapred.FileInputFormat: Total input files to process : 1\n",
      "17/10/15 17:27:08 INFO mapreduce.JobSubmitter: number of splits:2\n",
      "17/10/15 17:27:08 INFO Configuration.deprecation: mapred.job.name is deprecated. Instead, use mapreduce.job.name\n",
      "17/10/15 17:27:08 INFO mapreduce.JobSubmitter: Submitting tokens for job: job_1508087877012_0003\n",
      "17/10/15 17:27:09 INFO impl.YarnClientImpl: Submitted application application_1508087877012_0003\n",
      "17/10/15 17:27:09 INFO mapreduce.Job: The url to track the job: http://1c6f2be712dc:8088/proxy/application_1508087877012_0003/\n",
      "17/10/15 17:27:09 INFO mapreduce.Job: Running job: job_1508087877012_0003\n",
      "17/10/15 17:27:15 INFO mapreduce.Job: Job job_1508087877012_0003 running in uber mode : false\n",
      "17/10/15 17:27:15 INFO mapreduce.Job:  map 0% reduce 0%\n",
      "17/10/15 17:27:32 INFO mapreduce.Job:  map 47% reduce 0%\n",
      "17/10/15 17:27:38 INFO mapreduce.Job:  map 65% reduce 0%\n",
      "17/10/15 17:27:43 INFO mapreduce.Job:  map 82% reduce 0%\n",
      "17/10/15 17:27:44 INFO mapreduce.Job:  map 100% reduce 0%\n",
      "17/10/15 17:28:00 INFO mapreduce.Job:  map 100% reduce 10%\n",
      "17/10/15 17:28:04 INFO mapreduce.Job:  map 100% reduce 22%\n",
      "17/10/15 17:28:06 INFO mapreduce.Job:  map 100% reduce 36%\n",
      "17/10/15 17:28:09 INFO mapreduce.Job:  map 100% reduce 49%\n",
      "17/10/15 17:28:10 INFO mapreduce.Job:  map 100% reduce 61%\n",
      "17/10/15 17:28:11 INFO mapreduce.Job:  map 100% reduce 75%\n",
      "17/10/15 17:28:22 INFO mapreduce.Job:  map 100% reduce 88%\n",
      "17/10/15 17:28:23 INFO mapreduce.Job:  map 100% reduce 100%\n",
      "17/10/15 17:28:24 INFO mapreduce.Job: Job job_1508087877012_0003 completed successfully\n",
      "17/10/15 17:28:24 INFO mapreduce.Job: Counters: 52\n",
      "\tFile System Counters\n",
      "\t\tFILE: Number of bytes read=243474421\n",
      "\t\tFILE: Number of bytes written=366546032\n",
      "\t\tFILE: Number of read operations=0\n",
      "\t\tFILE: Number of large read operations=0\n",
      "\t\tFILE: Number of write operations=0\n",
      "\t\tHDFS: Number of bytes read=76874501\n",
      "\t\tHDFS: Number of bytes written=5363834\n",
      "\t\tHDFS: Number of read operations=30\n",
      "\t\tHDFS: Number of large read operations=0\n",
      "\t\tHDFS: Number of write operations=16\n",
      "\tJob Counters \n",
      "\t\tKilled reduce tasks=1\n",
      "\t\tLaunched map tasks=2\n",
      "\t\tLaunched reduce tasks=9\n",
      "\t\tData-local map tasks=2\n",
      "\t\tTotal time spent by all maps in occupied slots (ms)=53943\n",
      "\t\tTotal time spent by all reduces in occupied slots (ms)=158345\n",
      "\t\tTotal time spent by all map tasks (ms)=53943\n",
      "\t\tTotal time spent by all reduce tasks (ms)=158345\n",
      "\t\tTotal vcore-milliseconds taken by all map tasks=53943\n",
      "\t\tTotal vcore-milliseconds taken by all reduce tasks=158345\n",
      "\t\tTotal megabyte-milliseconds taken by all map tasks=55237632\n",
      "\t\tTotal megabyte-milliseconds taken by all reduce tasks=162145280\n",
      "\tMap-Reduce Framework\n",
      "\t\tMap input records=4100\n",
      "\t\tMap output records=11937317\n",
      "\t\tMap output bytes=97841276\n",
      "\t\tMap output materialized bytes=121716016\n",
      "\t\tInput split bytes=228\n",
      "\t\tCombine input records=0\n",
      "\t\tCombine output records=0\n",
      "\t\tReduce input groups=426552\n",
      "\t\tReduce shuffle bytes=121716016\n",
      "\t\tReduce input records=11937317\n",
      "\t\tReduce output records=426552\n",
      "\t\tSpilled Records=35811951\n",
      "\t\tShuffled Maps =16\n",
      "\t\tFailed Shuffles=0\n",
      "\t\tMerged Map outputs=16\n",
      "\t\tGC time elapsed (ms)=1747\n",
      "\t\tCPU time spent (ms)=117980\n",
      "\t\tPhysical memory (bytes) snapshot=2044473344\n",
      "\t\tVirtual memory (bytes) snapshot=19668631552\n",
      "\t\tTotal committed heap usage (bytes)=1582301184\n",
      "\tShuffle Errors\n",
      "\t\tBAD_ID=0\n",
      "\t\tCONNECTION=0\n",
      "\t\tIO_ERROR=0\n",
      "\t\tWRONG_LENGTH=0\n",
      "\t\tWRONG_MAP=0\n",
      "\t\tWRONG_REDUCE=0\n",
      "\tWiki stats\n",
      "\t\tstop words=313147\n",
      "\t\ttotal words=11937317\n",
      "\tFile Input Format Counters \n",
      "\t\tBytes Read=76874273\n",
      "\tFile Output Format Counters \n",
      "\t\tBytes Written=5363834\n",
      "17/10/15 17:28:24 INFO streaming.StreamJob: Output directory: stopcount_result1508088423402482\n"
     ]
    }
   ],
   "source": [
    "%%bash\n",
    "\n",
    "NUM_REDUCERS=8\n",
    "\n",
    "IN_DIR=\"/data/wiki/en_articles_part\"\n",
    "OUT_DIR=\"stopcount_result\"$(date +\"%s%6N\")\n",
    "OUT_LOG=out.$(date +\"%s%6N\").log\n",
    "\n",
    "hdfs dfs -rm -r -f -skipTrash ${OUT_DIR} > /dev/null\n",
    "\n",
    "yarn jar /opt/cloudera/parcels/CDH/lib/hadoop-mapreduce/hadoop-streaming.jar \\\n",
    "    -D mapred.job.name=\"Streaming stop word count\" \\\n",
    "    -D mapreduce.job.reduces=${NUM_REDUCERS} \\\n",
    "    -files mapper.py,reducer.py,/datasets/stop_words_en.txt#stop_words.txt \\\n",
    "    -mapper \"python mapper.py\" \\\n",
    "    -reducer \"python reducer.py\" \\\n",
    "    -input ${IN_DIR} \\\n",
    "    -output ${OUT_DIR} > /dev/null 2>${OUT_LOG}\n",
    "#     -combiner \"python reducer.py\" \\\n",
    "\n",
    "cat ${OUT_LOG} >&2\n",
    "grep ' words=' ${OUT_LOG} \\\n",
    "    | cut -d'=' -f2 \\\n",
    "    | paste -sd' ' \\\n",
    "    | awk '{ printf \"%.2f\", ($1 / $2 * 100) }'\n"
   ]
  },
  {
   "cell_type": "code",
   "execution_count": null,
   "metadata": {
    "collapsed": true
   },
   "outputs": [],
   "source": []
  }
 ],
 "metadata": {
  "kernelspec": {
   "display_name": "Python 2",
   "language": "python",
   "name": "python2"
  },
  "language_info": {
   "codemirror_mode": {
    "name": "ipython",
    "version": 2
   },
   "file_extension": ".py",
   "mimetype": "text/x-python",
   "name": "python",
   "nbconvert_exporter": "python",
   "pygments_lexer": "ipython2",
   "version": "2.7.12"
  }
 },
 "nbformat": 4,
 "nbformat_minor": 2
}
