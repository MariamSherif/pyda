{
 "cells": [
  {
   "cell_type": "markdown",
   "metadata": {},
   "source": [
    "### Hive assignment. Task2\n",
    "\n",
    "Compare most popular tags in year 2016 with tags in 2009. Tag popularity is the number of questions (post_type_id=1) with this tag. Output top 10 tags in format:\n",
    "\n",
    "```tag <tab> rank in 2016 <tab> rank in 2009 <tag> tag popularity in 2016 <tag> tag popularity in 2009```\n",
    "\n",
    "Example:\n",
    "\n",
    "```php 5 3 1234 5678```\n",
    "\n",
    "For 'rank' in each year use rank() function. Order by 'rank in 2016'."
   ]
  },
  {
   "cell_type": "code",
   "execution_count": 1,
   "metadata": {},
   "outputs": [
    {
     "name": "stdout",
     "output_type": "stream",
     "text": [
      "Overwriting query.hql\n"
     ]
    }
   ],
   "source": [
    "%%writefile query.hql\n",
    "\n",
    "USE stackoverflow_;\n",
    "\n",
    "SELECT\n",
    "    SubQ16.tag, rnk16, rnk09, pop16, pop09\n",
    "FROM (\n",
    "    SELECT\n",
    "        tag, popularity AS pop16, rank() OVER w AS rnk16\n",
    "    FROM (\n",
    "        SELECT\n",
    "            year, tag, count(1) AS popularity\n",
    "        FROM\n",
    "            posts\n",
    "        LATERAL VIEW\n",
    "            explode(tags) posts AS tag\n",
    "        WHERE\n",
    "            year = 2016\n",
    "            AND post_type_id=1\n",
    "        GROUP BY\n",
    "            year, tag\n",
    "        ORDER BY\n",
    "            popularity DESC\n",
    "    ) AS SubQ\n",
    "    WINDOW w AS (PARTITION BY year ORDER BY popularity DESC)\n",
    ") AS SubQ16\n",
    "LEFT JOIN (\n",
    "    SELECT\n",
    "        tag, popularity AS pop09, rank() OVER w AS rnk09\n",
    "    FROM (\n",
    "        SELECT\n",
    "            year, tag, count(1) AS popularity\n",
    "        FROM\n",
    "            posts\n",
    "        LATERAL VIEW\n",
    "            explode(tags) posts AS tag\n",
    "        WHERE\n",
    "            year = 2009\n",
    "            AND post_type_id=1\n",
    "        GROUP BY\n",
    "            year, tag\n",
    "        ORDER BY\n",
    "            popularity DESC\n",
    "    ) AS SubQ\n",
    "    WINDOW w AS (PARTITION BY year ORDER BY popularity DESC)\n",
    ") AS SubQ09\n",
    "ON\n",
    "    SubQ16.tag = SubQ09.tag\n",
    "ORDER BY\n",
    "    rnk16\n",
    "LIMIT 10;\n"
   ]
  },
  {
   "cell_type": "code",
   "execution_count": 2,
   "metadata": {},
   "outputs": [
    {
     "name": "stdout",
     "output_type": "stream",
     "text": [
      "\n",
      "Logging initialized using configuration in jar:file:/usr/local/apache-hive-1.1.0-bin/lib/hive-common-1.1.0.jar!/hive-log4j.properties\n",
      "OK\n",
      "posts_sample_external\n",
      "Time taken: 1.164 seconds, Fetched: 1 row(s)\n",
      "OK\n",
      "default\n",
      "mskorokhod\n",
      "Time taken: 0.027 seconds, Fetched: 2 row(s)\n",
      "FAILED: SemanticException [Error 10072]: Database does not exist: stackoverflow_\n"
     ]
    }
   ],
   "source": [
    "! hive -f query.hql"
   ]
  }
 ],
 "metadata": {
  "kernelspec": {
   "display_name": "Python 2",
   "language": "python",
   "name": "python2"
  },
  "language_info": {
   "codemirror_mode": {
    "name": "ipython",
    "version": 2
   },
   "file_extension": ".py",
   "mimetype": "text/x-python",
   "name": "python",
   "nbconvert_exporter": "python",
   "pygments_lexer": "ipython2",
   "version": "2.7.12"
  }
 },
 "nbformat": 4,
 "nbformat_minor": 2
}
