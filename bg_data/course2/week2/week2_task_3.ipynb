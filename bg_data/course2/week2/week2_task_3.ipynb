{
 "cells": [
  {
   "cell_type": "markdown",
   "metadata": {},
   "source": [
    "### Hive assignment. Task3\n",
    "\n",
    "Use Hive to complete the following task. Input tables was described in Hive Task1 and Hive Task2.\n",
    "\n",
    "Calculate number of questions and answers depending on users' age. Use аge from 'users' table, filter out users if their age is undefined. Output format:\n",
    "\n",
    "\n",
    "```\n",
    "age <tab> number of questions <tab> number of answers\n",
    "```\n",
    "\n",
    "Example:\n",
    "\n",
    "```\n",
    "22 12345 5678\n",
    "```\n",
    "\n",
    "Output all ages. Order by age, increment.\n",
    "\n",
    "> Hint. To simplify your code and reduce the quantity of MapReduce jobs produced by the query, use IF clause.\n"
   ]
  },
  {
   "cell_type": "code",
   "execution_count": 1,
   "metadata": {},
   "outputs": [
    {
     "name": "stdout",
     "output_type": "stream",
     "text": [
      "Overwriting query.hql\n"
     ]
    }
   ],
   "source": [
    "%%writefile query.hql\n",
    "\n",
    "USE stackoverflow_;\n",
    "\n",
    "SELECT\n",
    "    age,\n",
    "    sum(questions),\n",
    "    sum(answers)\n",
    "FROM (\n",
    "    SELECT\n",
    "        owner_user_id,\n",
    "        if (post_type_id = 1, 1, 0) as questions,\n",
    "        if (post_type_id = 2, 1, 0) as answers\n",
    "    FROM posts\n",
    ") AS SubQ\n",
    "LEFT JOIN users ON\n",
    "    users.id = SubQ.owner_user_id\n",
    "WHERE\n",
    "    age IS NOT NULL\n",
    "GROUP BY\n",
    "    age\n",
    "ORDER BY\n",
    "    age\n",
    ";\n"
   ]
  },
  {
   "cell_type": "code",
   "execution_count": 2,
   "metadata": {},
   "outputs": [
    {
     "name": "stdout",
     "output_type": "stream",
     "text": [
      "\n",
      "Logging initialized using configuration in jar:file:/usr/local/apache-hive-1.1.0-bin/lib/hive-common-1.1.0.jar!/hive-log4j.properties\n",
      "FAILED: SemanticException [Error 10072]: Database does not exist: stackoverflow_\n"
     ]
    }
   ],
   "source": [
    "! hive -f query.hql"
   ]
  }
 ],
 "metadata": {
  "kernelspec": {
   "display_name": "Python 2",
   "language": "python",
   "name": "python2"
  },
  "language_info": {
   "codemirror_mode": {
    "name": "ipython",
    "version": 2
   },
   "file_extension": ".py",
   "mimetype": "text/x-python",
   "name": "python",
   "nbconvert_exporter": "python",
   "pygments_lexer": "ipython2",
   "version": "2.7.12"
  }
 },
 "nbformat": 4,
 "nbformat_minor": 2
}
