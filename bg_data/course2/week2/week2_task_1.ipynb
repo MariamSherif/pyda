{
 "cells": [
  {
   "cell_type": "markdown",
   "metadata": {},
   "source": [
    "### Hive assignment. Task1\n",
    "\n",
    "The purpose of this task is to create an external table on the posts data of the stackoverflow.com website.\n",
    "\n",
    "Create your own database and `'use'` it. Create external table `'posts_sample_external'` over the sample dataset with posts in `'/data/stackoverflow_1000'` directory. Create managed table 'posts_sample' and populate with the data from the external table. `'Posts_sample'` table should be partitioned by year and by month of post creation. Provide output of query which selects lines number per each partition in the format:\n",
    "\n",
    "`year <tab> month <table> lines count`\n",
    "\n",
    "where year in `YYYY` format and month in `YYYY-MM` format. The result is the 3th line of the last query output.\n",
    "\n",
    "Example:\n",
    "\n",
    "`2008 2008-07 123`"
   ]
  },
  {
   "cell_type": "code",
   "execution_count": 63,
   "metadata": {},
   "outputs": [
    {
     "name": "stdout",
     "output_type": "stream",
     "text": [
      "Overwriting query.hql\n"
     ]
    }
   ],
   "source": [
    "%%writefile query.hql\n",
    "\n",
    "-- CREATE DATABASE IF NOT EXISTS jovyan;\n",
    "-- USE jovyan;\n"
   ]
  },
  {
   "cell_type": "code",
   "execution_count": 64,
   "metadata": {},
   "outputs": [
    {
     "name": "stdout",
     "output_type": "stream",
     "text": [
      "Appending to query.hql\n"
     ]
    }
   ],
   "source": [
    "%%writefile -a query.hql\n",
    "\n",
    "-- Create posts_sample_external table\n",
    "\n",
    "DROP TABLE IF EXISTS `posts_sample_external`;\n",
    "CREATE EXTERNAL TABLE IF NOT EXISTS `posts_sample_external`(\n",
    "  `id` int,\n",
    "  `post_type_id` tinyint,\n",
    "  `date` string,\n",
    "  `owner_user_id` int,\n",
    "  `parent_id` int,\n",
    "  `score` int,\n",
    "  `favorite_count` int,\n",
    "  `tags` string\n",
    ")\n",
    "PARTITIONED BY ( \n",
    "  `year` string, \n",
    "  `month` string\n",
    ")\n",
    "ROW FORMAT SERDE 'org.apache.hadoop.hive.serde2.RegexSerDe'\n",
    "WITH SERDEPROPERTIES (\n",
    "  \"input.regex\" = '^<row.*?(?=.*\\\\bId=\\\"(\\\\d+)\\\")(?=.*\\\\bPostTypeId=\\\"(\\\\d+)\\\")(?=.*\\\\bCreationDate=\\\"([^\"]*)\\\")(?=.*\\\\bOwnerUserId=\\\"(\\\\d+)\\\")?(?=.*\\\\bParentId=\\\"(\\\\d+)\\\")?(?=.*\\\\bScore=\\\"(-?\\\\d+)\\\")(?=.*\\\\bFavoriteCount=\\\"(\\\\d+)\\\")?(?=.*\\\\bTags=\\\"([^\"]*)\\\")?.*',\n",
    "  \"input.regex.case.insensitive\" = 'true'\n",
    ")\n",
    "STORED AS TEXTFILE\n",
    "LOCATION\n",
    "  '/data/stackexchange100/posts'\n",
    ";\n"
   ]
  },
  {
   "cell_type": "code",
   "execution_count": 65,
   "metadata": {},
   "outputs": [
    {
     "name": "stdout",
     "output_type": "stream",
     "text": [
      "Appending to query.hql\n"
     ]
    }
   ],
   "source": [
    "%%writefile -a query.hql\n",
    "\n",
    "-- Create managed table and fill data\n",
    "\n",
    "DROP TABLE IF EXISTS `posts_sample`;\n",
    "CREATE TABLE IF NOT EXISTS `posts_sample`(\n",
    "  `id` int,\n",
    "  `post_type_id` tinyint,\n",
    "  `date` string,\n",
    "  `owner_user_id` int,\n",
    "  `parent_id` int,\n",
    "  `score` int,\n",
    "  `favorite_count` int,\n",
    "  `tags` array <string>\n",
    ")\n",
    "PARTITIONED BY ( \n",
    "  `year` string, \n",
    "  `month` string\n",
    ")\n",
    "CLUSTERED BY ( \n",
    "  `date`\n",
    ") \n",
    "SORTED BY ( \n",
    "  id ASC\n",
    ") \n",
    "INTO 8 BUCKETS\n",
    "STORED AS ORC\n",
    ";\n",
    "\n",
    "SET hive.exec.dynamic.partition=true;  \n",
    "SET hive.exec.dynamic.partition.mode=nonstrict;\n",
    "\n",
    "INSERT OVERWRITE TABLE `posts_sample`\n",
    "PARTITION (`year`, `month`)\n",
    "SELECT\n",
    "  `id`,\n",
    "  `post_type_id`,\n",
    "  `date`,\n",
    "  `owner_user_id`,\n",
    "  `parent_id`,\n",
    "  `score`,\n",
    "  `favorite_count`,\n",
    "  split(regexp_replace(`tags`, '(&lt\\;|&gt\\;$)', ''), '&gt\\;') AS `tags`,\n",
    "  regexp_extract(`date`, '^(\\\\d{4})', 1) AS `year`,\n",
    "  regexp_extract(`date`, '^\\\\d{4}-(\\\\d{2})', 1) AS `month`\n",
    "FROM `posts_sample_external`\n",
    ";\n"
   ]
  },
  {
   "cell_type": "code",
   "execution_count": 66,
   "metadata": {},
   "outputs": [
    {
     "name": "stdout",
     "output_type": "stream",
     "text": [
      "\n",
      "Logging initialized using configuration in jar:file:/usr/local/apache-hive-1.1.0-bin/lib/hive-common-1.1.0.jar!/hive-log4j.properties\n",
      "OK\n",
      "Time taken: 1.284 seconds\n",
      "OK\n",
      "Time taken: 0.304 seconds\n",
      "OK\n",
      "Time taken: 0.14 seconds\n",
      "OK\n",
      "Time taken: 0.138 seconds\n",
      "Query ID = jovyan_20171101124040_b6e194d1-8a84-4596-ba5d-580555dc3875\n",
      "Total jobs = 1\n",
      "Launching Job 1 out of 1\n",
      "Number of reduce tasks is set to 0 since there's no reduce operator\n",
      "Starting Job = job_1509524427668_0010, Tracking URL = http://1abfcb4c4022:8088/proxy/application_1509524427668_0010/\n",
      "Kill Command = /opt/hadoop/bin/hadoop job  -kill job_1509524427668_0010\n",
      "Hadoop job information for Stage-1: number of mappers: 2; number of reducers: 0\n",
      "2017-11-01 12:40:58,113 Stage-1 map = 0%,  reduce = 0%\n",
      "2017-11-01 12:41:15,175 Stage-1 map = 5%,  reduce = 0%, Cumulative CPU 18.46 sec\n",
      "2017-11-01 12:41:16,214 Stage-1 map = 12%,  reduce = 0%, Cumulative CPU 34.61 sec\n",
      "2017-11-01 12:41:21,413 Stage-1 map = 21%,  reduce = 0%, Cumulative CPU 47.27 sec\n",
      "2017-11-01 12:41:27,670 Stage-1 map = 30%,  reduce = 0%, Cumulative CPU 60.28 sec\n",
      "2017-11-01 12:41:28,721 Stage-1 map = 16%,  reduce = 0%, Cumulative CPU 28.39 sec\n",
      "2017-11-01 12:41:34,012 Stage-1 map = 20%,  reduce = 0%, Cumulative CPU 34.24 sec\n",
      "2017-11-01 12:41:40,303 Stage-1 map = 24%,  reduce = 0%, Cumulative CPU 40.16 sec\n",
      "2017-11-01 12:41:44,451 Stage-1 map = 31%,  reduce = 0%, Cumulative CPU 57.43 sec\n",
      "2017-11-01 12:41:45,498 Stage-1 map = 35%,  reduce = 0%, Cumulative CPU 63.79 sec\n",
      "2017-11-01 12:41:50,758 Stage-1 map = 39%,  reduce = 0%, Cumulative CPU 69.83 sec\n",
      "2017-11-01 12:41:51,792 Stage-1 map = 43%,  reduce = 0%, Cumulative CPU 76.03 sec\n",
      "2017-11-01 12:41:57,042 Stage-1 map = 46%,  reduce = 0%, Cumulative CPU 83.18 sec\n",
      "2017-11-01 12:41:58,069 Stage-1 map = 51%,  reduce = 0%, Cumulative CPU 89.26 sec\n",
      "2017-11-01 12:41:59,147 Stage-1 map = 37%,  reduce = 0%, Cumulative CPU 58.8 sec\n",
      "2017-11-01 12:42:04,444 Stage-1 map = 40%,  reduce = 0%, Cumulative CPU 64.35 sec\n",
      "2017-11-01 12:42:09,704 Stage-1 map = 44%,  reduce = 0%, Cumulative CPU 70.28 sec\n",
      "2017-11-01 12:42:15,949 Stage-1 map = 55%,  reduce = 0%, Cumulative CPU 95.07 sec\n",
      "2017-11-01 12:42:20,047 Stage-1 map = 57%,  reduce = 0%, Cumulative CPU 97.0 sec\n",
      "2017-11-01 12:42:22,113 Stage-1 map = 61%,  reduce = 0%, Cumulative CPU 103.44 sec\n",
      "2017-11-01 12:42:28,381 Stage-1 map = 64%,  reduce = 0%, Cumulative CPU 110.0 sec\n",
      "2017-11-01 12:42:31,507 Stage-1 map = 50%,  reduce = 0%, Cumulative CPU 78.3 sec\n",
      "2017-11-01 12:42:36,648 Stage-1 map = 56%,  reduce = 0%, Cumulative CPU 97.33 sec\n",
      "2017-11-01 12:42:42,882 Stage-1 map = 60%,  reduce = 0%, Cumulative CPU 103.53 sec\n",
      "2017-11-01 12:42:49,088 Stage-1 map = 64%,  reduce = 0%, Cumulative CPU 110.24 sec\n",
      "2017-11-01 12:43:00,506 Stage-1 map = 100%,  reduce = 0%, Cumulative CPU 78.3 sec\n",
      "MapReduce Total cumulative CPU time: 1 minutes 18 seconds 300 msec\n",
      "Ended Job = job_1509524427668_0010 with errors\n",
      "Error during job, obtaining debugging information...\n",
      "Examining task ID: task_1509524427668_0010_m_000000 (and more) from job job_1509524427668_0010\n",
      "\n",
      "Task with the most failures(4): \n",
      "-----\n",
      "Task ID:\n",
      "  task_1509524427668_0010_m_000000\n",
      "\n",
      "URL:\n",
      "  http://0.0.0.0:8088/taskdetails.jsp?jobid=job_1509524427668_0010&tipid=task_1509524427668_0010_m_000000\n",
      "-----\n",
      "Diagnostic Messages for this Task:\n",
      "Error: Java heap space\n",
      "\n",
      "FAILED: Execution Error, return code 2 from org.apache.hadoop.hive.ql.exec.mr.MapRedTask\n",
      "MapReduce Jobs Launched: \n",
      "Stage-Stage-1: Map: 2   Cumulative CPU: 78.3 sec   HDFS Read: 236792163 HDFS Write: 2590297 FAIL\n",
      "Total MapReduce CPU Time Spent: 1 minutes 18 seconds 300 msec\n"
     ]
    }
   ],
   "source": [
    "! hive -f query.hql 1>2"
   ]
  },
  {
   "cell_type": "code",
   "execution_count": 1,
   "metadata": {},
   "outputs": [
    {
     "name": "stdout",
     "output_type": "stream",
     "text": [
      "\n",
      "Logging initialized using configuration in jar:file:/opt/cloudera/parcels/CDH-5.11.0-1.cdh5.11.0.p0.34/jars/hive-common-1.1.0-cdh5.11.0.jar!/hive-log4j.properties\n",
      "OK\n",
      "Time taken: 1.139 seconds\n",
      "OK\n",
      "posts\n",
      "users\n",
      "Time taken: 0.184 seconds, Fetched: 2 row(s)\n"
     ]
    }
   ],
   "source": [
    "! hive --database mskorokhod -e 'show tables'"
   ]
  }
 ],
 "metadata": {
  "kernelspec": {
   "display_name": "Python 2",
   "language": "python",
   "name": "python2"
  },
  "language_info": {
   "codemirror_mode": {
    "name": "ipython",
    "version": 2
   },
   "file_extension": ".py",
   "mimetype": "text/x-python",
   "name": "python",
   "nbconvert_exporter": "python",
   "pygments_lexer": "ipython2",
   "version": "2.7.12"
  }
 },
 "nbformat": 4,
 "nbformat_minor": 2
}
