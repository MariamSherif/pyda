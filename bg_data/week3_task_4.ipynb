{
 "cells": [
  {
   "cell_type": "code",
   "execution_count": 2,
   "metadata": {},
   "outputs": [
    {
     "name": "stdout",
     "output_type": "stream",
     "text": [
      "Overwriting mapper.py\n"
     ]
    }
   ],
   "source": [
    "%%writefile mapper.py\n",
    "\n",
    "import sys\n",
    "import re\n",
    "\n",
    "reload(sys)\n",
    "sys.setdefaultencoding('utf-8') # required to convert to unicode\n",
    "\n",
    "\n",
    "def read_vocabulary(file_path):\n",
    "    with open(file_path, 'r') as infile:\n",
    "        return set(infile.read().splitlines())\n",
    "\n",
    "stop_words = read_vocabulary(\"stop_words.txt\")\n",
    "\n",
    "\n",
    "for line in sys.stdin:\n",
    "    try:\n",
    "        article_id, text = unicode(line.strip()).split('\\t', 1)\n",
    "    except ValueError as e:\n",
    "        continue\n",
    "    text = re.sub(\"^\\W+|\\W+$\", \"\", text, flags=re.UNICODE)\n",
    "    words = re.split(\"\\W*\\s+\\W*\", text, flags=re.UNICODE)\n",
    "    for word in words:\n",
    "        if word in stop_words:\n",
    "            continue\n",
    "        word = word.lower()\n",
    "        print \"%s\\t%s\\t%d\" % (sorted(word), word, 1)\n"
   ]
  },
  {
   "cell_type": "code",
   "execution_count": 5,
   "metadata": {},
   "outputs": [
    {
     "name": "stdout",
     "output_type": "stream",
     "text": [
      "Overwriting reducer.py\n"
     ]
    }
   ],
   "source": [
    "%%writefile reducer.py\n",
    "\n",
    "import sys\n",
    "from collections import Counter\n",
    "\n",
    "current_key = None\n",
    "word_sum = 0\n",
    "words_batch = set()\n",
    "\n",
    "\n",
    "for line in sys.stdin:\n",
    "    try:\n",
    "        key, word, count = line.strip().split('\\t', 2)\n",
    "        count = int(count)\n",
    "    except ValueError as e:\n",
    "        continue\n",
    "    if current_key != key:\n",
    "        if current_key and len(words_batch) > 1:\n",
    "            print \"%d\\t%d\\t%s\" % (word_sum, len(words_batch), ','.join(sorted(words_batch)))\n",
    "        words_batch = set()\n",
    "        word_sum = 0\n",
    "        current_key = key\n",
    "    words_batch.add(word)\n",
    "    word_sum += count\n",
    "\n",
    "if current_key and len(words_batch) > 1:\n",
    "    print \"%d\\t%d\\t%s\" % (word_sum, len(words_batch), ','.join(sorted(words_batch)))\n"
   ]
  },
  {
   "cell_type": "code",
   "execution_count": 7,
   "metadata": {},
   "outputs": [
    {
     "name": "stdout",
     "output_type": "stream",
     "text": [
      "7825\t5\tenglish,helsing,hesling,shengli,shingle\n"
     ]
    },
    {
     "name": "stderr",
     "output_type": "stream",
     "text": [
      "17/10/17 12:57:08 INFO client.RMProxy: Connecting to ResourceManager at /0.0.0.0:8032\n",
      "17/10/17 12:57:08 INFO client.RMProxy: Connecting to ResourceManager at /0.0.0.0:8032\n",
      "17/10/17 12:57:09 INFO mapred.FileInputFormat: Total input files to process : 1\n",
      "17/10/17 12:57:09 INFO mapreduce.JobSubmitter: number of splits:2\n",
      "17/10/17 12:57:09 INFO Configuration.deprecation: mapred.job.name is deprecated. Instead, use mapreduce.job.name\n",
      "17/10/17 12:57:09 INFO mapreduce.JobSubmitter: Submitting tokens for job: job_1508231375397_0034\n",
      "17/10/17 12:57:10 INFO impl.YarnClientImpl: Submitted application application_1508231375397_0034\n",
      "17/10/17 12:57:10 INFO mapreduce.Job: The url to track the job: http://843f47db8d38:8088/proxy/application_1508231375397_0034/\n",
      "17/10/17 12:57:10 INFO mapreduce.Job: Running job: job_1508231375397_0034\n",
      "17/10/17 12:57:17 INFO mapreduce.Job: Job job_1508231375397_0034 running in uber mode : false\n",
      "17/10/17 12:57:17 INFO mapreduce.Job:  map 0% reduce 0%\n",
      "17/10/17 12:57:35 INFO mapreduce.Job:  map 28% reduce 0%\n",
      "17/10/17 12:57:41 INFO mapreduce.Job:  map 41% reduce 0%\n",
      "17/10/17 12:57:47 INFO mapreduce.Job:  map 52% reduce 0%\n",
      "17/10/17 12:57:53 INFO mapreduce.Job:  map 67% reduce 0%\n",
      "17/10/17 12:57:56 INFO mapreduce.Job:  map 83% reduce 0%\n",
      "17/10/17 12:57:57 INFO mapreduce.Job:  map 100% reduce 0%\n",
      "17/10/17 12:58:10 INFO mapreduce.Job:  map 100% reduce 13%\n",
      "17/10/17 12:58:16 INFO mapreduce.Job:  map 100% reduce 25%\n",
      "17/10/17 12:58:19 INFO mapreduce.Job:  map 100% reduce 38%\n",
      "17/10/17 12:58:20 INFO mapreduce.Job:  map 100% reduce 50%\n",
      "17/10/17 12:58:21 INFO mapreduce.Job:  map 100% reduce 75%\n",
      "17/10/17 12:58:25 INFO mapreduce.Job:  map 100% reduce 88%\n",
      "17/10/17 12:58:26 INFO mapreduce.Job:  map 100% reduce 100%\n",
      "17/10/17 12:58:26 INFO mapreduce.Job: Job job_1508231375397_0034 completed successfully\n",
      "17/10/17 12:58:27 INFO mapreduce.Job: Counters: 50\n",
      "\tFile System Counters\n",
      "\t\tFILE: Number of bytes read=765247476\n",
      "\t\tFILE: Number of bytes written=1149132735\n",
      "\t\tFILE: Number of read operations=0\n",
      "\t\tFILE: Number of large read operations=0\n",
      "\t\tFILE: Number of write operations=0\n",
      "\t\tHDFS: Number of bytes read=76874501\n",
      "\t\tHDFS: Number of bytes written=774535\n",
      "\t\tHDFS: Number of read operations=30\n",
      "\t\tHDFS: Number of large read operations=0\n",
      "\t\tHDFS: Number of write operations=16\n",
      "\tJob Counters \n",
      "\t\tKilled reduce tasks=1\n",
      "\t\tLaunched map tasks=2\n",
      "\t\tLaunched reduce tasks=9\n",
      "\t\tData-local map tasks=2\n",
      "\t\tTotal time spent by all maps in occupied slots (ms)=74312\n",
      "\t\tTotal time spent by all reduces in occupied slots (ms)=120432\n",
      "\t\tTotal time spent by all map tasks (ms)=74312\n",
      "\t\tTotal time spent by all reduce tasks (ms)=120432\n",
      "\t\tTotal vcore-milliseconds taken by all map tasks=74312\n",
      "\t\tTotal vcore-milliseconds taken by all reduce tasks=120432\n",
      "\t\tTotal megabyte-milliseconds taken by all map tasks=76095488\n",
      "\t\tTotal megabyte-milliseconds taken by all reduce tasks=123322368\n",
      "\tMap-Reduce Framework\n",
      "\t\tMap input records=4100\n",
      "\t\tMap output records=7348529\n",
      "\t\tMap output bytes=367873324\n",
      "\t\tMap output materialized bytes=382578265\n",
      "\t\tInput split bytes=228\n",
      "\t\tCombine input records=0\n",
      "\t\tCombine output records=0\n",
      "\t\tReduce input groups=369856\n",
      "\t\tReduce shuffle bytes=382578265\n",
      "\t\tReduce input records=7348529\n",
      "\t\tReduce output records=32653\n",
      "\t\tSpilled Records=22045587\n",
      "\t\tShuffled Maps =16\n",
      "\t\tFailed Shuffles=0\n",
      "\t\tMerged Map outputs=16\n",
      "\t\tGC time elapsed (ms)=2183\n",
      "\t\tCPU time spent (ms)=107270\n",
      "\t\tPhysical memory (bytes) snapshot=2446290944\n",
      "\t\tVirtual memory (bytes) snapshot=19669176320\n",
      "\t\tTotal committed heap usage (bytes)=1763704832\n",
      "\tShuffle Errors\n",
      "\t\tBAD_ID=0\n",
      "\t\tCONNECTION=0\n",
      "\t\tIO_ERROR=0\n",
      "\t\tWRONG_LENGTH=0\n",
      "\t\tWRONG_MAP=0\n",
      "\t\tWRONG_REDUCE=0\n",
      "\tFile Input Format Counters \n",
      "\t\tBytes Read=76874273\n",
      "\tFile Output Format Counters \n",
      "\t\tBytes Written=774535\n",
      "17/10/17 12:58:27 INFO streaming.StreamJob: Output directory: group_count_result\n"
     ]
    }
   ],
   "source": [
    "%%bash\n",
    "\n",
    "NUM_REDUCERS=8\n",
    "\n",
    "IN_DIR=\"/data/wiki/en_articles_part\"\n",
    "OUT_DIR=\"group_count_result\"  # $(date +\"%s%6N\")\n",
    "\n",
    "hdfs dfs -rm -r -f -skipTrash ${OUT_DIR} > /dev/null\n",
    "\n",
    "yarn jar /opt/cloudera/parcels/CDH/lib/hadoop-mapreduce/hadoop-streaming.jar \\\n",
    "    -D mapred.job.name=\"Streaming group word count\" \\\n",
    "    -D mapreduce.job.reduces=${NUM_REDUCERS} \\\n",
    "    -files mapper.py,reducer.py,/datasets/stop_words_en.txt#stop_words.txt \\\n",
    "    -mapper \"python mapper.py\" \\\n",
    "    -reducer \"python reducer.py\" \\\n",
    "    -input ${IN_DIR} \\\n",
    "    -output ${OUT_DIR} > /dev/null\n",
    "\n",
    "hdfs dfs -text ${OUT_DIR}/part-* | grep english | sort -k1rn | head -1"
   ]
  },
  {
   "cell_type": "code",
   "execution_count": null,
   "metadata": {
    "collapsed": true
   },
   "outputs": [],
   "source": []
  }
 ],
 "metadata": {
  "kernelspec": {
   "display_name": "Python 2",
   "language": "python",
   "name": "python2"
  },
  "language_info": {
   "codemirror_mode": {
    "name": "ipython",
    "version": 2
   },
   "file_extension": ".py",
   "mimetype": "text/x-python",
   "name": "python",
   "nbconvert_exporter": "python",
   "pygments_lexer": "ipython2",
   "version": "2.7.12"
  }
 },
 "nbformat": 4,
 "nbformat_minor": 2
}
