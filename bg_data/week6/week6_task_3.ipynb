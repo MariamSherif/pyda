{
 "cells": [
  {
   "cell_type": "markdown",
   "metadata": {},
   "source": [
    "Calculate tf*idf for each pair (word, article) from the Wikipedia dump. Apply the stop words filter to speed up calculations. Term frequency (tf) is a function depending on a term (word) and a document (article):\n",
    "\n",
    "tf(term, doc_id) = Nt/N,\n",
    "\n",
    "where Nt - quantity of particular term in the document, N - the total number of terms in the document (without stop words)\n",
    "\n",
    "Inverse document frequency (idf) is a function depends on a term:\n",
    "\n",
    "idf(term) = 1/log(1 + Dt),\n",
    "\n",
    "where Dt - number of documents in the dataset with the particular term.\n",
    "\n",
    "You can find more information here: https://en.wikipedia.xn--org/wiki/Tfidf-q82h but use just the formulas mentioned above.\n",
    "\n",
    "Output: tf*idf for term=’labor’ and article_id=12\n"
   ]
  },
  {
   "cell_type": "code",
   "execution_count": 1,
   "metadata": {},
   "outputs": [
    {
     "name": "stdout",
     "output_type": "stream",
     "text": [
      "Overwriting mapper.py\n"
     ]
    }
   ],
   "source": [
    "%%writefile mapper.py\n",
    "\n",
    "import sys\n",
    "import re\n",
    "\n",
    "reload(sys)\n",
    "sys.setdefaultencoding('utf-8') # required to convert to unicode\n",
    "\n",
    "\n",
    "def read_vocabulary(file_path):\n",
    "    with open(file_path, 'r') as infile:\n",
    "        return set(infile.read().splitlines())\n",
    "\n",
    "stop_words = read_vocabulary(\"stop_words.txt\")\n",
    "\n",
    "\n",
    "for line in sys.stdin:\n",
    "    try:\n",
    "        article_id, text = unicode(line.strip()).split('\\t', 1)\n",
    "    except ValueError as e:\n",
    "        continue\n",
    "\n",
    "    text = re.sub(\"^\\W+|\\W+$\", \"\", text, flags=re.UNICODE)\n",
    "    words = re.split(\"\\W*\\s+\\W*\", text, flags=re.UNICODE)\n",
    "\n",
    "    for word in words:\n",
    "        if word.lower() in stop_words:\n",
    "            continue\n",
    "        print >> sys.stderr, \"reporter:counter:Wiki stats,Total words,%d\" % 1\n",
    "        print '{article_id}\\t{word}\\t{count}'.format(article_id=article_id, word=word.lower(), count=1)\n",
    "        print 'all\\t{article_id}\\t{count}'.format(article_id=article_id, count=1)\n"
   ]
  },
  {
   "cell_type": "code",
   "execution_count": 2,
   "metadata": {},
   "outputs": [
    {
     "name": "stdout",
     "output_type": "stream",
     "text": [
      "Overwriting reducer.py\n"
     ]
    }
   ],
   "source": [
    "%%writefile reducer.py\n",
    "\n",
    "import sys\n",
    "\n",
    "current_key = None\n",
    "word_sum = 0\n",
    "\n",
    "for line in sys.stdin:\n",
    "    try:\n",
    "        article_id, word, count = line.strip().split('\\t', 2)\n",
    "        key = article_id, word\n",
    "        count = int(count)\n",
    "    except ValueError as e:\n",
    "        continue\n",
    "    if current_key != key:\n",
    "        if current_key:\n",
    "            print '{key[0]}\\t{key[1]}\\t{count}'.format(key=current_key, count=word_sum)\n",
    "        word_sum = 0\n",
    "        current_key = key\n",
    "    word_sum += count\n",
    "\n",
    "if current_key:\n",
    "    print '{key[0]}\\t{key[1]}\\t{count}'.format(key=current_key, count=word_sum)\n"
   ]
  },
  {
   "cell_type": "code",
   "execution_count": 43,
   "metadata": {},
   "outputs": [
    {
     "name": "stdout",
     "output_type": "stream",
     "text": [
      "Overwriting reducer_idf.py\n"
     ]
    }
   ],
   "source": [
    "%%writefile reducer_idf.py\n",
    "\n",
    "import sys\n",
    "from math import log\n",
    "\n",
    "current_key = None\n",
    "word_sum = 0\n",
    "\n",
    "for line in sys.stdin:\n",
    "    try:\n",
    "        article_id, word, _ = line.strip().split('\\t', 2)\n",
    "        key = word\n",
    "    except ValueError as e:\n",
    "        continue\n",
    "    if current_key != key:\n",
    "        if current_key:\n",
    "            print '{key}\\t{count}'.format(key=current_key, count=1. / log(1. + word_sum))\n",
    "        word_sum = 0\n",
    "        current_key = key\n",
    "    word_sum += 1\n",
    "\n",
    "if current_key:\n",
    "    print '{key}\\t{count}'.format(key=current_key, count=1. / log(1. + word_sum))\n"
   ]
  },
  {
   "cell_type": "code",
   "execution_count": 66,
   "metadata": {},
   "outputs": [
    {
     "name": "stdout",
     "output_type": "stream",
     "text": [
      "Overwriting mapper_tf.py\n"
     ]
    }
   ],
   "source": [
    "%%writefile mapper_tf.py\n",
    "\n",
    "import sys\n",
    "import os\n",
    "import re\n",
    "import subprocess\n",
    "\n",
    "reload(sys)\n",
    "sys.setdefaultencoding('utf-8') # required to convert to unicode\n",
    "\n",
    "articles = {}\n",
    "\n",
    "def get_article_count(article_id):\n",
    "    if article_id not in articles:\n",
    "        cmd = 'hdfs dfs -text {dirname}/* | egrep \"^all\\s{article_id}\"'.format(\n",
    "            dirname=os.environ.get('HDFS_COUNT_DIR'), article_id=article_id)\n",
    "        res = subprocess.check_output(cmd, shell=True).strip().split('\\t')[-1]\n",
    "        if len(articles.keys()) > 100:\n",
    "            global articles\n",
    "            articles = {}\n",
    "        articles[article_id] = res\n",
    "    return float(articles[article_id])\n",
    "\n",
    "for line in sys.stdin:\n",
    "    try:\n",
    "        article_id, word, count = line.strip().split('\\t', 2)\n",
    "        count = int(count)\n",
    "    except ValueError as e:\n",
    "        continue\n",
    "    if article_id == 'all':\n",
    "        continue\n",
    "    tf = count / get_article_count(article_id)\n",
    "    print '{article_id}\\t{word}\\t{count}'.format(article_id=article_id, word=word, count=tf)\n"
   ]
  },
  {
   "cell_type": "code",
   "execution_count": null,
   "metadata": {},
   "outputs": [],
   "source": [
    "%%bash\n",
    "\n",
    "NUM_REDUCERS=8\n",
    "\n",
    "IN_DIR=\"/data/wiki/en_articles_part\"\n",
    "COUNT_DIR=\"tf_idf_count\"  # $(date +\"%s%6N\")\n",
    "IDF_DIR=\"idf_out\"  # $(date +\"%s%6N\")\n",
    "TF_DIR=\"tf_out\"  # $(date +\"%s%6N\")\n",
    "\n",
    "# hdfs dfs -rm -r -f -skipTrash ${COUNT_DIR} > /dev/null\n",
    "hdfs dfs -rm -r -f -skipTrash ${IDF_DIR} > /dev/null\n",
    "hdfs dfs -rm -r -f -skipTrash ${TF_DIR} > /dev/null\n",
    "\n",
    "# # yarn jar /opt/cloudera/parcels/CDH/lib/hadoop-mapreduce/hadoop-streaming.jar \\\n",
    "#     -D mapreduce.job.name=\"Prepare word counts\" \\\n",
    "#     -D mapreduce.job.reduces=${NUM_REDUCERS} \\\n",
    "#     -D mapreduce.job.output.key.comparator.class=org.apache.hadoop.mapreduce.lib.partition.KeyFieldBasedComparator \\\n",
    "#     -D mapreduce.map.output.key.field.separator=$'\\t' \\\n",
    "#     -D stream.num.map.output.key.fields=2 \\\n",
    "#     -D mapreduce.partition.keycomparator.options='-k2 -k1' \\\n",
    "#     -files mapper.py,reducer.py,/datasets/stop_words_en.txt#stop_words.txt \\\n",
    "#     -mapper \"python mapper.py\" \\\n",
    "#     -combiner \"python reducer.py\" \\\n",
    "#     -reducer \"python reducer.py\" \\\n",
    "#     -input ${IN_DIR} \\\n",
    "#     -output ${COUNT_DIR} > /dev/null\n",
    "\n",
    "# # calc idf for each word\n",
    "# yarn jar /opt/cloudera/parcels/CDH/lib/hadoop-mapreduce/hadoop-streaming.jar \\\n",
    "#     -D mapreduce.job.name=\"Calc idf words\" \\\n",
    "#     -D mapreduce.job.reduces=1 \\\n",
    "#     -D mapreduce.job.output.key.comparator.class=org.apache.hadoop.mapreduce.lib.partition.KeyFieldBasedComparator \\\n",
    "#     -D mapreduce.map.output.key.field.separator=$'\\t' \\\n",
    "#     -D stream.num.map.output.key.fields=2 \\\n",
    "#     -D mapreduce.partition.keycomparator.options='-k2' \\\n",
    "#     -files reducer_idf.py \\\n",
    "#     -mapper \"egrep '^all' --invert\" \\\n",
    "#     -reducer \"python reducer_idf.py\" \\\n",
    "#     -input ${COUNT_DIR} \\\n",
    "#     -output ${IDF_DIR} > /dev/null\n",
    "\n",
    "# calc tf for each word\n",
    "yarn jar /opt/cloudera/parcels/CDH/lib/hadoop-mapreduce/hadoop-streaming.jar \\\n",
    "    -D mapreduce.job.name=\"Calc tf words\" \\\n",
    "    -D mapreduce.job.reduces=0 \\\n",
    "    -files mapper_tf.py \\\n",
    "    -cmdenv HDFS_COUNT_DIR='/user/jovyan/'${COUNT_DIR} \\\n",
    "    -mapper \"python mapper_tf.py\" \\\n",
    "    -input ${COUNT_DIR} \\\n",
    "    -output ${TF_DIR} > /dev/null\n",
    "\n",
    "# print answ\n"
   ]
  }
 ],
 "metadata": {
  "kernelspec": {
   "display_name": "Python 2",
   "language": "python",
   "name": "python2"
  },
  "language_info": {
   "codemirror_mode": {
    "name": "ipython",
    "version": 2
   },
   "file_extension": ".py",
   "mimetype": "text/x-python",
   "name": "python",
   "nbconvert_exporter": "python",
   "pygments_lexer": "ipython2",
   "version": "2.7.12"
  }
 },
 "nbformat": 4,
 "nbformat_minor": 2
}
