{
 "cells": [
  {
   "cell_type": "code",
   "execution_count": 1,
   "metadata": {},
   "outputs": [],
   "source": [
    "import operator\n",
    "import re\n",
    "\n",
    "from pyspark import SparkConf, SparkContext"
   ]
  },
  {
   "cell_type": "code",
   "execution_count": 2,
   "metadata": {},
   "outputs": [],
   "source": [
    "sc = SparkContext(conf=SparkConf().setAppName(\"FindPath\").setMaster(\"local\"))"
   ]
  },
  {
   "cell_type": "code",
   "execution_count": 3,
   "metadata": {},
   "outputs": [],
   "source": [
    "def parse_edge(s):\n",
    "    user, follower = s.split(\"\\t\")\n",
    "    return (int(user), int(follower))\n",
    "\n",
    "def step(item):\n",
    "    prev_v, prev_d, next_v = item[0], item[1][0], item[1][1]\n",
    "    return (next_v, prev_d + 1)\n",
    "\n",
    "def complete(item):\n",
    "    v, old_d, new_d = item[0], item[1][0], item[1][1]\n",
    "    return (v, old_d if old_d is not None else new_d)\n",
    "\n",
    "n = 400  # number of partitions\n",
    "edges = sc.textFile(\"/data/twitter/twitter_sample.txt\").map(parse_edge).cache()\n",
    "forward_edges = edges.map(lambda e: (e[1], e[0])).partitionBy(n).persist()"
   ]
  },
  {
   "cell_type": "code",
   "execution_count": null,
   "metadata": {},
   "outputs": [],
   "source": [
    "x = 12\n",
    "y = 34\n",
    "d = 0\n",
    "\n",
    "distances = sc.parallelize([(x, d)]).partitionBy(n)\n",
    "\n",
    "found = False\n",
    "\n",
    "while True:\n",
    "    candidates = distances.join(forward_edges, n).map(step)\n",
    "    new_distances = distances.fullOuterJoin(candidates, n).map(complete, True).persist()\n",
    "    count = new_distances.filter(lambda i: i[1] == d + 1).count()\n",
    "\n",
    "    if candidates.filter(lambda pair: pair[0] == y).count():\n",
    "        found = True\n",
    "        break\n",
    "    if found or count > 0:\n",
    "        d += 1\n",
    "        distances = new_distances\n",
    "    else:\n",
    "        break\n"
   ]
  },
  {
   "cell_type": "code",
   "execution_count": null,
   "metadata": {},
   "outputs": [],
   "source": [
    "path = [y]\n",
    "\n",
    "step = d\n",
    "next_ = y\n",
    "\n",
    "while found and step:\n",
    "    step_candidats = candidates.filter(lambda pair: pair[1] == step).keys().map(lambda item: (item, next_))\n",
    "    path_candidates = forward_edges.intersection(step_candidats)\n",
    "    # get any candidat\n",
    "    next_ = path_candidates.first()[0]\n",
    "    # decrease step and found next\n",
    "    step -= 1\n",
    "    path.append(next_)\n",
    "\n",
    "path.append(x)"
   ]
  },
  {
   "cell_type": "code",
   "execution_count": null,
   "metadata": {},
   "outputs": [],
   "source": [
    "path.reverse()\n",
    "print ','.join(map(str, path))"
   ]
  }
 ],
 "metadata": {
  "kernelspec": {
   "display_name": "Python 2",
   "language": "python",
   "name": "python2"
  },
  "language_info": {
   "codemirror_mode": {
    "name": "ipython",
    "version": 2
   },
   "file_extension": ".py",
   "mimetype": "text/x-python",
   "name": "python",
   "nbconvert_exporter": "python",
   "pygments_lexer": "ipython2",
   "version": "2.7.12"
  }
 },
 "nbformat": 4,
 "nbformat_minor": 2
}
