{
 "cells": [
  {
   "cell_type": "code",
   "execution_count": 1,
   "metadata": {},
   "outputs": [
    {
     "name": "stdout",
     "output_type": "stream",
     "text": [
      "Writing mapper.py\n"
     ]
    }
   ],
   "source": [
    "%%writefile mapper.py\n",
    "\n",
    "import sys\n",
    "import re\n",
    "\n",
    "reload(sys)\n",
    "sys.setdefaultencoding('utf-8') # required to convert to unicode\n",
    "\n",
    "for line in sys.stdin:\n",
    "    try:\n",
    "        article_id, text = unicode(line.strip()).split('\\t', 1)\n",
    "    except ValueError as e:\n",
    "        continue\n",
    "    words = re.split(\"\\W*\\s+\\W*\", text, flags=re.UNICODE)\n",
    "    for word in words:\n",
    "        print >> sys.stderr, \"reporter:counter:Wiki stats,Total words,%d\" % 1\n",
    "        print \"%s\\t%d\" % (word.lower(), 1)"
   ]
  },
  {
   "cell_type": "code",
   "execution_count": 3,
   "metadata": {},
   "outputs": [
    {
     "name": "stdout",
     "output_type": "stream",
     "text": [
      "Overwriting reducer.py\n"
     ]
    }
   ],
   "source": [
    "%%writefile reducer.py\n",
    "\n",
    "import sys\n",
    "\n",
    "current_key = None\n",
    "word_sum = 0\n",
    "\n",
    "for line in sys.stdin:\n",
    "    try:\n",
    "        key, count = line.strip().split('\\t', 1)\n",
    "        count = int(count)\n",
    "    except ValueError as e:\n",
    "        continue\n",
    "    if current_key != key:\n",
    "        if current_key:\n",
    "            print \"%s\\t%d\" % (current_key, word_sum)\n",
    "        word_sum = 0\n",
    "        current_key = key\n",
    "    word_sum += count\n",
    "\n",
    "if current_key:\n",
    "    print \"%s\\t%d\" % (current_key, word_sum)"
   ]
  },
  {
   "cell_type": "code",
   "execution_count": 17,
   "metadata": {},
   "outputs": [
    {
     "name": "stdout",
     "output_type": "stream",
     "text": [
      "Found 1 items\r\n",
      "drwxrwxrwx   - jovyan supergroup          0 2017-10-09 01:15 /data/wiki/en_articles_part\r\n"
     ]
    }
   ],
   "source": [
    "! hdfs dfs -ls /data/wiki"
   ]
  },
  {
   "cell_type": "code",
   "execution_count": 40,
   "metadata": {},
   "outputs": [],
   "source": [
    "! hdfs dfs -ls /user/jovyan"
   ]
  },
  {
   "cell_type": "code",
   "execution_count": 56,
   "metadata": {},
   "outputs": [
    {
     "name": "stderr",
     "output_type": "stream",
     "text": [
      "17/10/14 14:20:08 INFO client.RMProxy: Connecting to ResourceManager at /0.0.0.0:8032\n",
      "17/10/14 14:20:08 INFO client.RMProxy: Connecting to ResourceManager at /0.0.0.0:8032\n",
      "17/10/14 14:20:09 INFO mapred.FileInputFormat: Total input files to process : 1\n",
      "17/10/14 14:20:09 INFO mapreduce.JobSubmitter: number of splits:2\n",
      "17/10/14 14:20:10 INFO mapreduce.JobSubmitter: Submitting tokens for job: job_1507990066898_0003\n",
      "17/10/14 14:20:10 INFO impl.YarnClientImpl: Submitted application application_1507990066898_0003\n",
      "17/10/14 14:20:10 INFO mapreduce.Job: The url to track the job: http://b54821241862:8088/proxy/application_1507990066898_0003/\n",
      "17/10/14 14:20:10 INFO mapreduce.Job: Running job: job_1507990066898_0003\n",
      "17/10/14 14:20:16 INFO mapreduce.Job: Job job_1507990066898_0003 running in uber mode : false\n",
      "17/10/14 14:20:16 INFO mapreduce.Job:  map 0% reduce 0%\n",
      "17/10/14 14:20:34 INFO mapreduce.Job:  map 21% reduce 0%\n",
      "17/10/14 14:20:40 INFO mapreduce.Job:  map 31% reduce 0%\n",
      "17/10/14 14:20:46 INFO mapreduce.Job:  map 40% reduce 0%\n",
      "17/10/14 14:20:52 INFO mapreduce.Job:  map 45% reduce 0%\n",
      "17/10/14 14:20:58 INFO mapreduce.Job:  map 48% reduce 0%\n",
      "17/10/14 14:21:04 INFO mapreduce.Job:  map 58% reduce 0%\n",
      "17/10/14 14:21:10 INFO mapreduce.Job:  map 67% reduce 0%\n",
      "17/10/14 14:21:15 INFO mapreduce.Job:  map 100% reduce 0%\n",
      "17/10/14 14:21:23 INFO mapreduce.Job:  map 100% reduce 13%\n",
      "17/10/14 14:21:27 INFO mapreduce.Job:  map 100% reduce 25%\n",
      "17/10/14 14:21:30 INFO mapreduce.Job:  map 100% reduce 38%\n",
      "17/10/14 14:21:33 INFO mapreduce.Job:  map 100% reduce 63%\n",
      "17/10/14 14:21:35 INFO mapreduce.Job:  map 100% reduce 88%\n",
      "17/10/14 14:21:36 INFO mapreduce.Job:  map 100% reduce 100%\n",
      "17/10/14 14:21:37 INFO mapreduce.Job: Job job_1507990066898_0003 completed successfully\n",
      "17/10/14 14:21:37 INFO mapreduce.Job: Counters: 51\n",
      "\tFile System Counters\n",
      "\t\tFILE: Number of bytes read=17954826\n",
      "\t\tFILE: Number of bytes written=28257883\n",
      "\t\tFILE: Number of read operations=0\n",
      "\t\tFILE: Number of large read operations=0\n",
      "\t\tFILE: Number of write operations=0\n",
      "\t\tHDFS: Number of bytes read=76874501\n",
      "\t\tHDFS: Number of bytes written=5370513\n",
      "\t\tHDFS: Number of read operations=30\n",
      "\t\tHDFS: Number of large read operations=0\n",
      "\t\tHDFS: Number of write operations=16\n",
      "\tJob Counters \n",
      "\t\tKilled reduce tasks=1\n",
      "\t\tLaunched map tasks=2\n",
      "\t\tLaunched reduce tasks=8\n",
      "\t\tData-local map tasks=2\n",
      "\t\tTotal time spent by all maps in occupied slots (ms)=113324\n",
      "\t\tTotal time spent by all reduces in occupied slots (ms)=80127\n",
      "\t\tTotal time spent by all map tasks (ms)=113324\n",
      "\t\tTotal time spent by all reduce tasks (ms)=80127\n",
      "\t\tTotal vcore-milliseconds taken by all map tasks=113324\n",
      "\t\tTotal vcore-milliseconds taken by all reduce tasks=80127\n",
      "\t\tTotal megabyte-milliseconds taken by all map tasks=116043776\n",
      "\t\tTotal megabyte-milliseconds taken by all reduce tasks=82050048\n",
      "\tMap-Reduce Framework\n",
      "\t\tMap input records=4100\n",
      "\t\tMap output records=11937375\n",
      "\t\tMap output bytes=97842436\n",
      "\t\tMap output materialized bytes=8952763\n",
      "\t\tInput split bytes=228\n",
      "\t\tCombine input records=11937375\n",
      "\t\tCombine output records=640011\n",
      "\t\tReduce input groups=427175\n",
      "\t\tReduce shuffle bytes=8952763\n",
      "\t\tReduce input records=640011\n",
      "\t\tReduce output records=427175\n",
      "\t\tSpilled Records=1920033\n",
      "\t\tShuffled Maps =16\n",
      "\t\tFailed Shuffles=0\n",
      "\t\tMerged Map outputs=16\n",
      "\t\tGC time elapsed (ms)=2122\n",
      "\t\tCPU time spent (ms)=171300\n",
      "\t\tPhysical memory (bytes) snapshot=2043510784\n",
      "\t\tVirtual memory (bytes) snapshot=19668869120\n",
      "\t\tTotal committed heap usage (bytes)=1586495488\n",
      "\tShuffle Errors\n",
      "\t\tBAD_ID=0\n",
      "\t\tCONNECTION=0\n",
      "\t\tIO_ERROR=0\n",
      "\t\tWRONG_LENGTH=0\n",
      "\t\tWRONG_MAP=0\n",
      "\t\tWRONG_REDUCE=0\n",
      "\tWiki stats\n",
      "\t\tTotal words=11937375\n",
      "\tFile Input Format Counters \n",
      "\t\tBytes Read=76874273\n",
      "\tFile Output Format Counters \n",
      "\t\tBytes Written=5370513\n",
      "17/10/14 14:21:37 INFO streaming.StreamJob: Output directory: /user/jovyan/wordcount_result\n"
     ]
    }
   ],
   "source": [
    "%%bash\n",
    "\n",
    "NUM_REDUCERS=8\n",
    "OUT_DIR=\"/user/jovyan/wordcount_result\"\n",
    "\n",
    "hdfs dfs -rm -r -skipTrash ${OUT_DIR} > /dev/null\n",
    "\n",
    "yarn jar /opt/cloudera/parcels/CDH/lib/hadoop-mapreduce/hadoop-streaming.jar \\\n",
    "    -D mapred.jab.name=\"Streaming wordCount\" \\\n",
    "    -D mapreduce.job.reduces=${NUM_REDUCERS} \\\n",
    "    -files mapper.py,reducer.py \\\n",
    "    -mapper \"python mapper.py\" \\\n",
    "    -combiner \"python reducer.py\" \\\n",
    "    -reducer \"python reducer.py\" \\\n",
    "    -input /data/wiki/en_articles_part \\\n",
    "    -output ${OUT_DIR} > /dev/null\n"
   ]
  },
  {
   "cell_type": "code",
   "execution_count": 61,
   "metadata": {},
   "outputs": [
    {
     "name": "stdout",
     "output_type": "stream",
     "text": [
      "0%however\t1\r\n",
      "0&\\mathrm{if\t1\r\n",
      "0(8)320-1234\t1\r\n",
      "0)).(1\t2\r\n",
      "0,03\t1\r\n",
      "0,1,...,n\t1\r\n",
      "0,1,0\t1\r\n",
      "0,1,\\dots,n\t1\r\n",
      "0,5\t1\r\n",
      "0,50\t1\r\n",
      "text: Unable to write to output stream.\r\n"
     ]
    }
   ],
   "source": [
    "! hdfs dfs -text /user/jovyan/wordcount_result/part-00000 | head"
   ]
  }
 ],
 "metadata": {
  "kernelspec": {
   "display_name": "Python 2",
   "language": "python",
   "name": "python2"
  },
  "language_info": {
   "codemirror_mode": {
    "name": "ipython",
    "version": 2
   },
   "file_extension": ".py",
   "mimetype": "text/x-python",
   "name": "python",
   "nbconvert_exporter": "python",
   "pygments_lexer": "ipython2",
   "version": "2.7.12"
  }
 },
 "nbformat": 4,
 "nbformat_minor": 2
}
